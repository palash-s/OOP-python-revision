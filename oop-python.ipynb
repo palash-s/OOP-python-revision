{
 "metadata": {
  "language_info": {
   "codemirror_mode": {
    "name": "ipython",
    "version": 3
   },
   "file_extension": ".py",
   "mimetype": "text/x-python",
   "name": "python",
   "nbconvert_exporter": "python",
   "pygments_lexer": "ipython3",
   "version": "3.8.5"
  },
  "orig_nbformat": 2,
  "kernelspec": {
   "name": "python385jvsc74a57bd0847c845a9b14215c063ab9e3d6cc25141a4c9a642a27826b6f9e69dd57b278e0",
   "display_name": "Python 3.8.5 64-bit ('base': conda)"
  }
 },
 "nbformat": 4,
 "nbformat_minor": 2,
 "cells": [
  {
   "source": [
    "## class definiation\n",
    "\n",
    "1.  the init function is one of Python's special functions for working with classes. When the class is created like we see here on line 11, the init function is called to initialize the new object with information. And it is called before any other functions that you've defined on the class"
   ],
   "cell_type": "markdown",
   "metadata": {}
  },
  {
   "cell_type": "code",
   "execution_count": 7,
   "metadata": {},
   "outputs": [
    {
     "output_type": "stream",
     "name": "stdout",
     "text": [
      "<__main__.Book object at 0x000001976D4F49A0>\na new book\nthe book of unknown\n"
     ]
    }
   ],
   "source": [
    "class Book:\n",
    "    def __init__(self, title):\n",
    "        self.title = title\n",
    "\n",
    "\n",
    "b1 = Book(\"a new book\")\n",
    "b2 = Book(\"the book of unknown\")\n",
    "\n",
    "print(b1)\n",
    "print(b1.title)\n",
    "print(b2.title)"
   ]
  },
  {
   "source": [
    "## Instance methods and attributes"
   ],
   "cell_type": "markdown",
   "metadata": {}
  },
  {
   "cell_type": "code",
   "execution_count": 18,
   "metadata": {},
   "outputs": [
    {
     "output_type": "stream",
     "name": "stdout",
     "text": [
      "41\n65\n49.4\n"
     ]
    }
   ],
   "source": [
    "class Book:\n",
    "    def __init__(self, title, author, pages, price):\n",
    "        self.title = title\n",
    "        self.author = author\n",
    "        self.pages = pages\n",
    "        self.price = price\n",
    "\n",
    "        self.__secret = \"can not access\"  ##name mangling \n",
    "\n",
    "    def getprice(self):\n",
    "        if hasattr(self, \"_discount\"):\n",
    "            return self.price - self.price * self._discount\n",
    "        else:\n",
    "            return self.price\n",
    "\n",
    "\n",
    "    def setdiscount(self, amount):\n",
    "        self._discount = amount  # a hint that this attribute is considered internal to the                                         class and should not be accessed from outside the class's                                        logic\n",
    "\n",
    "b1 = Book(\"a new book\", \"master\", 232, 41)\n",
    "b2 = Book(\"the book of unknown\",\"unknown\", 342, 65 )\n",
    "\n",
    "# print(b1)\n",
    "# print(b1.title)\n",
    "# print(b2.title)\n",
    "print(b1.getprice())\n",
    "print(b2.getprice())\n",
    "\n",
    "b2.setdiscount(0.24)\n",
    "\n",
    "print(b2.getprice())\n"
   ]
  },
  {
   "source": [
    "## Chcking class types and instances"
   ],
   "cell_type": "markdown",
   "metadata": {}
  },
  {
   "cell_type": "code",
   "execution_count": 26,
   "metadata": {},
   "outputs": [
    {
     "output_type": "stream",
     "name": "stdout",
     "text": [
      "<class '__main__.Book'>\nTrue\nFalse\nTrue\nFalse\n"
     ]
    }
   ],
   "source": [
    "class Book:\n",
    "    def __init__(self, title):\n",
    "        self.title = title\n",
    "\n",
    "class Newspaper:\n",
    "    def __init__(self, name):\n",
    "        self.name = name\n",
    "\n",
    "\n",
    "\n",
    "b1 = Book(\"a new book\")\n",
    "b2 = Book(\"the book of unknown\")\n",
    "\n",
    "n1 = Newspaper(\"the washington post\")\n",
    "n2 = Newspaper(\"the new york times\")\n",
    "\n",
    "\n",
    "# type function\n",
    "\n",
    "print(type(b1))\n",
    "\n",
    "\n",
    "print(type(b1) == type(b2))\n",
    "\n",
    "print(type(n1) == type(b2))\n",
    "\n",
    "\n",
    "#isinstance \n",
    "print(isinstance(b1, Book))\n",
    "\n",
    "print(isinstance(n1, Book))"
   ]
  },
  {
   "source": [
    "## class-level and static methods"
   ],
   "cell_type": "markdown",
   "metadata": {}
  },
  {
   "cell_type": "code",
   "execution_count": 47,
   "metadata": {},
   "outputs": [
    {
     "output_type": "stream",
     "name": "stdout",
     "text": [
      "book types:  ('HARDCOVER', 'PAPERBACK')\n[<__main__.Book object at 0x000001976D7743A0>, <__main__.Book object at 0x000001976D774160>]\n"
     ]
    }
   ],
   "source": [
    "class Book:\n",
    "    BOOK_TYEPS = (\"HARDCOVER\", \"PAPERBACK\")\n",
    "\n",
    "    \n",
    "    __booklist = None\n",
    "\n",
    "    #class method\n",
    "    @classmethod\n",
    "    def getbooktypes(cls):\n",
    "        return cls.BOOK_TYEPS\n",
    "\n",
    "\n",
    "    #statci mehtod\n",
    "\n",
    "    @staticmethod\n",
    "    def getbooklist():\n",
    "        if Book.__booklist == None:\n",
    "            Book.__booklist = []\n",
    "        return Book.__booklist\n",
    "\n",
    "# instace methods receive a specific object instance as an arguemtn\n",
    "#  and operate on data specific to that object instance\n",
    "\n",
    "\n",
    "    def __init__(self, title, booktype):\n",
    "        self.title = title\n",
    "        if (not booktype in Book.BOOK_TYEPS):\n",
    "            raise ValueError\n",
    "        else:\n",
    "            self.booktype = booktype\n",
    "   \n",
    "print(\"book types: \", Book.getbooktypes())\n",
    "\n",
    "b1 = Book(\"title 1\", \"HARDCOVER\")\n",
    "b2 = Book(\"title 2\", \"PAPERBACK\")\n",
    "\n",
    "\n",
    "## static methods\n",
    "thebooks = Book.getbooklist()\n",
    "thebooks.append(b1)\n",
    "thebooks.append(b2)\n",
    "print(thebooks)"
   ]
  },
  {
   "source": [
    "## Inheritance"
   ],
   "cell_type": "markdown",
   "metadata": {}
  },
  {
   "cell_type": "code",
   "execution_count": 50,
   "metadata": {},
   "outputs": [
    {
     "output_type": "stream",
     "name": "stdout",
     "text": [
      "ancient aliens\nnyc times company\n43.0 6.0 5.99\n"
     ]
    }
   ],
   "source": [
    "class pulbication:\n",
    "    def __init__(self, title, price):\n",
    "        self.title = title\n",
    "        self.price = price\n",
    "\n",
    "\n",
    "class periodical(pulbication):\n",
    "    def __init__(self, title, price, period, publisher):\n",
    "        super().__init__(title,price)\n",
    "        self.period = period\n",
    "        self.publisher = publisher\n",
    "\n",
    "class Book(pulbication):\n",
    "    def __init__(self, title, price, author, pages):\n",
    "        super().__init__(title, price)\n",
    "        self.author = author\n",
    "        self.pages = pages\n",
    "\n",
    "class Magazine(periodical):\n",
    "    def __init__(self, title, price, period, publisher):\n",
    "        super().__init__(title,price,period, publisher)\n",
    "\n",
    "class Newspaper(periodical):\n",
    "    def __init__(self, title, price, period, publisher):\n",
    "        super().__init__(title,price,period, publisher)\n",
    "              \n",
    "\n",
    "b1 = Book(\"the book of unknown\", 43.0, \"ancient aliens\", 2321)\n",
    "n1 = Newspaper(\"ny times\", 6.0, \"daily\",\"nyc times company\" )\n",
    "m1 = Magazine(\"Science and aliens\",  5.99, \"monthly\",\"cosmos publisher\")\n",
    "\n",
    "\n",
    "print(b1.author)\n",
    "print(n1.publisher)\n",
    "print(b1.price,n1.price, m1.price)"
   ]
  },
  {
   "source": [
    "## abstract base class"
   ],
   "cell_type": "markdown",
   "metadata": {}
  },
  {
   "cell_type": "code",
   "execution_count": 52,
   "metadata": {},
   "outputs": [
    {
     "output_type": "stream",
     "name": "stdout",
     "text": [
      "314.0\n144\n"
     ]
    }
   ],
   "source": [
    "\n",
    "from abc import ABC, abstractmethod\n",
    "\n",
    "class GraphicShape(ABC):\n",
    "    def __init__(self):\n",
    "        super().__init__()\n",
    "\n",
    "\n",
    "    @abstractmethod\n",
    "    def calcArea(self):\n",
    "        pass\n",
    "\n",
    "\n",
    "class Circle(GraphicShape):\n",
    "    def __init__(self, radius):\n",
    "        self.radius = radius\n",
    "    \n",
    "    def calcArea(self):\n",
    "        return 3.14 *(self.radius ** 2)\n",
    "\n",
    "\n",
    "class Square(GraphicShape):\n",
    "    def __init__(self, side):\n",
    "        self.side = side\n",
    "    \n",
    "    def calcArea(self):\n",
    "        return self.side * self.side\n",
    "    \n",
    "\n",
    "\n",
    "# g = GraphicShape()\n",
    "\n",
    "c = Circle(10)\n",
    "print(c.calcArea())\n",
    "s = Square(12)\n",
    "print(s.calcArea())\n"
   ]
  },
  {
   "source": [
    "## multiple inheritance"
   ],
   "cell_type": "markdown",
   "metadata": {}
  },
  {
   "cell_type": "code",
   "execution_count": 58,
   "metadata": {},
   "outputs": [
    {
     "output_type": "stream",
     "name": "stdout",
     "text": [
      "foo\nbar\nclass A\n(<class '__main__.C'>, <class '__main__.A'>, <class '__main__.B'>, <class 'object'>)\n"
     ]
    }
   ],
   "source": [
    "\n",
    "class A:\n",
    "    def __init__(self):\n",
    "        super().__init__()\n",
    "        self.foo = \"foo\"\n",
    "        self.name = \"class A\"\n",
    "\n",
    "\n",
    "class B:\n",
    "    def __init__(self):\n",
    "        super().__init__()\n",
    "        self.bar = \"bar\"\n",
    "        self.name = \"class b\"\n",
    "\n",
    "\n",
    "class C(A, B):\n",
    "    def __init__(self):\n",
    "        super().__init__()\n",
    "       \n",
    "\n",
    "    def showprops(self):\n",
    "        print(self.foo)\n",
    "        print(self.bar)\n",
    "        print(self.name)\n",
    "\n",
    "c = C()\n",
    "\n",
    "c.showprops()\n",
    "print(C.__mro__)"
   ]
  },
  {
   "source": [
    "## interface "
   ],
   "cell_type": "markdown",
   "metadata": {}
  },
  {
   "cell_type": "code",
   "execution_count": 61,
   "metadata": {},
   "outputs": [
    {
     "output_type": "stream",
     "name": "stdout",
     "text": [
      "314.0\n{\"circle\" : 314.0 }\n"
     ]
    }
   ],
   "source": [
    "\n",
    "from abc import ABC, abstractmethod\n",
    "\n",
    "\n",
    "class JSONify(ABC):\n",
    "    @abstractmethod\n",
    "    def toJson(self):\n",
    "        pass\n",
    "\n",
    "\n",
    "\n",
    "class GraphicShape(ABC):\n",
    "    def __init__(self):\n",
    "        super().__init__()\n",
    "\n",
    "    @abstractmethod\n",
    "    def calcArea(self):\n",
    "        pass\n",
    "\n",
    "\n",
    "class Circle(GraphicShape, JSONify):\n",
    "    def __init__(self, radius):\n",
    "        self.radius = radius\n",
    "\n",
    "    def calcArea(self):\n",
    "        return 3.14 * (self.radius ** 2)\n",
    "\n",
    "    def toJson(self):\n",
    "        return f\"{{\\\"circle\\\" : {str(self.calcArea())} }}\"\n",
    "\n",
    "\n",
    "c = Circle(10)\n",
    "print(c.calcArea())\n",
    "print(c.toJson())"
   ]
  },
  {
   "source": [
    "## composition"
   ],
   "cell_type": "markdown",
   "metadata": {}
  },
  {
   "cell_type": "code",
   "execution_count": 63,
   "metadata": {},
   "outputs": [
    {
     "output_type": "stream",
     "name": "stdout",
     "text": [
      "Leo totsee\nWar and Peace\n365\n"
     ]
    }
   ],
   "source": [
    "\n",
    "\n",
    "class Book:\n",
    "    def __init__(self, title, price, author = None):\n",
    "        self.title = title\n",
    "        self.price = price\n",
    "\n",
    "        self.author = author\n",
    "\n",
    "        self.chapters = []\n",
    "\n",
    "    def addchapter(self, chapter):\n",
    "        self.chapters.append((chapter))\n",
    "\n",
    "\n",
    "    def getbookpagecount(self):\n",
    "        result = 0\n",
    "        for ch in self.chapters:\n",
    "            result += ch.page\n",
    "        return result\n",
    "\n",
    "class Author:\n",
    "    def __init__(self, fname, lname):\n",
    "        self.fname = fname\n",
    "        self.lname = lname\n",
    "\n",
    "\n",
    "    def __str__(self):\n",
    "        return f\"{self.fname} {self.lname}\"\n",
    "\n",
    "\n",
    "class Chapter:\n",
    "    def __init__(self, name, page):\n",
    "        self.name = name\n",
    "        self.page = page\n",
    "\n",
    "\n",
    "auth = Author(\"Leo\", \"totsee\")\n",
    "b1 = Book(\"War and Peace\", 39.0, auth)\n",
    "\n",
    "b1.addchapter(Chapter(\"Chapter 1\", 125))\n",
    "b1.addchapter(Chapter(\"Chapter 2\", 97))\n",
    "b1.addchapter(Chapter(\"Chapter 3\", 143))\n",
    "\n",
    "print(b1.author)\n",
    "\n",
    "print(b1.title)\n",
    "\n",
    "print(b1.getbookpagecount())"
   ]
  },
  {
   "source": [
    "## magic methods"
   ],
   "cell_type": "markdown",
   "metadata": {}
  },
  {
   "cell_type": "code",
   "execution_count": 67,
   "metadata": {},
   "outputs": [
    {
     "output_type": "stream",
     "name": "stdout",
     "text": [
      "War and Peace by Leo Tolstoy, costs 39.95\nThe Catcher in the Rye by JD Salinger, costs 29.95\nWar and Peace by Leo Tolstoy, costs 39.95\ntitle = The Catcher in the Rye, author = JD Salinger, price = 29.95\n"
     ]
    }
   ],
   "source": [
    "\n",
    "class Book:\n",
    "    def __init__(self, title, author, price):\n",
    "        super().__init__()\n",
    "        self.title = title\n",
    "        self.author = author\n",
    "        self.price = price\n",
    "\n",
    "    # TODO: use the __str__ method to return a string\n",
    "\n",
    "    def __str__(self):\n",
    "        return f\"{self.title} by {self.author}, costs {self.price}\"\n",
    "\n",
    "    # TODO: use the __repr__ method to return an obj representation\n",
    "    def __repr__(self):\n",
    "        return f\"title = {self.title}, author = {self.author}, price = {self.price}\"\n",
    "\n",
    "b1 = Book(\"War and Peace\", \"Leo Tolstoy\", 39.95)\n",
    "b2 = Book(\"The Catcher in the Rye\", \"JD Salinger\", 29.95)\n",
    "\n",
    "print(b1)\n",
    "print(b2)\n",
    "\n",
    "print(str(b1))\n",
    "print(repr(b2))"
   ]
  },
  {
   "cell_type": "code",
   "execution_count": 72,
   "metadata": {},
   "outputs": [
    {
     "output_type": "stream",
     "name": "stdout",
     "text": [
      "['To Kill a Mockingbird', 'The Catcher in the Rye', 'War and Peace', 'War and Peace']\n"
     ]
    }
   ],
   "source": [
    "\n",
    "class Book:\n",
    "    def __init__(self, title, author, price):\n",
    "        super().__init__()\n",
    "        self.title = title\n",
    "        self.author = author\n",
    "        self.price = price\n",
    "\n",
    "    # TODO: the __eq__ method checks for equality between two objects\n",
    "\n",
    "    def __eq__(self, value):\n",
    "\n",
    "        if not isinstance(value, Book):\n",
    "            raise ValueError\n",
    "\n",
    "        return (self.title == value.title and \n",
    "        self.author == value.author and\n",
    "        self.price == value.price)\n",
    "    \n",
    "    # TODO: the __ge__ establishes >= relationship with another obj\n",
    "\n",
    "    def __ge__(self, value):\n",
    "        if not isinstance(value, Book):\n",
    "            raise ValueError\n",
    "        return self.price >= value.price\n",
    "\n",
    "    # TODO: the __lt__ establishes < relationship with another obj\n",
    "    def __lt__(self, value):\n",
    "        if not isinstance(value, Book):\n",
    "            raise ValueError\n",
    "        return self.price < value.price\n",
    "\n",
    "b1 = Book(\"War and Peace\", \"Leo Tolstoy\", 39.95)\n",
    "b2 = Book(\"The Catcher in the Rye\", \"JD Salinger\", 29.95)\n",
    "b3 = Book(\"War and Peace\", \"Leo Tolstoy\", 39.95)\n",
    "b4 = Book(\"To Kill a Mockingbird\", \"Harper Lee\", 24.95)\n",
    "\n",
    "# TODO: Check for equality\n",
    "\n",
    "# print( b1 == b3)\n",
    "# print( b1 == b2)\n",
    "\n",
    "# TODO: Check for greater and lesser value\n",
    "\n",
    "# print(b2>=b1)\n",
    "# print(b2<b1)\n",
    "# TODO: Now we can sort them too\n",
    "\n",
    "books = [b1,b2,b3,b4]\n",
    "books.sort()\n",
    "print([book.title for book in books])"
   ]
  },
  {
   "source": [
    "## Attribute Access"
   ],
   "cell_type": "markdown",
   "metadata": {}
  },
  {
   "cell_type": "code",
   "execution_count": 80,
   "metadata": {},
   "outputs": [
    {
     "output_type": "stream",
     "name": "stdout",
     "text": [
      "The Catcher in the Rye by JD Salinger, costs 36.0\n"
     ]
    }
   ],
   "source": [
    "\n",
    "class Book:\n",
    "    def __init__(self, title, author, price):\n",
    "        super().__init__()\n",
    "        self.title = title\n",
    "        self.author = author\n",
    "        self.price = price\n",
    "        self._discount = 0.1\n",
    "\n",
    "    # The __str__ function is used to return a user-friendly string\n",
    "    # representation of the object\n",
    "    def __str__(self):\n",
    "        return f\"{self.title} by {self.author}, costs {self.price}\"\n",
    "\n",
    "    # TODO: __getattribute__ called when an attr is retrieved. Don't\n",
    "    # directly access the attr name otherwise a recursive loop is created\n",
    "    def __getattribute__(self, name):\n",
    "        if name == \"price\": \n",
    "            p = super().__getattribute__(\"price\")\n",
    "            d = super().__getattribute__(\"_discount\")\n",
    "            return p - (p*d)\n",
    "        return super().__getattribute__(name)\n",
    "\n",
    "    # TODO: __setattr__ called when an attribute value is set. Don't set the attr\n",
    "    # directly here otherwise a recursive loop causes a crash\n",
    "\n",
    "    def __setattr__(self, name, value):\n",
    "        if name == \"price\":\n",
    "            if type(value) is not float:\n",
    "                raise ValueError(\"the price attr must be afloat\")\n",
    "        return super().__setattr__(name, value)\n",
    "\n",
    "\n",
    "b1 = Book(\"War and Peace\", \"Leo Tolstoy\", 39.95)\n",
    "b2 = Book(\"The Catcher in the Rye\", \"JD Salinger\", 29.95)\n",
    "\n",
    "# b1.price = 38.95\n",
    "# print(b1)\n",
    "\n",
    "b2.price = float(40)\n",
    "print(b2)"
   ]
  },
  {
   "source": [
    "## callable objects"
   ],
   "cell_type": "markdown",
   "metadata": {}
  },
  {
   "cell_type": "code",
   "execution_count": 84,
   "metadata": {},
   "outputs": [
    {
     "output_type": "stream",
     "name": "stdout",
     "text": [
      "War and Peace by Leo Tolstoy, costs 39.95\nancient aliens by cosmos neutra, costs 43.2\n"
     ]
    }
   ],
   "source": [
    "\n",
    "\n",
    "class Book:\n",
    "    def __init__(self, title, author, price):\n",
    "        super().__init__()\n",
    "        self.title = title\n",
    "        self.author = author\n",
    "        self.price = price\n",
    "\n",
    "    def __str__(self):\n",
    "        return f\"{self.title} by {self.author}, costs {self.price}\"\n",
    "\n",
    "    # TODO: the __call__ method can be used to call the object like a function\n",
    "\n",
    "    def __call__(self, title, author, price):\n",
    "        self.title = title\n",
    "        self.author = author\n",
    "        self.price = price\n",
    "\n",
    "\n",
    "\n",
    "b1 = Book(\"War and Peace\", \"Leo Tolstoy\", 39.95)\n",
    "b2 = Book(\"The Catcher in the Rye\", \"JD Salinger\", 29.95)\n",
    "\n",
    "# TODO: call the object as if it were a function\n",
    "\n",
    "print(b1)\n",
    "b1(\"ancient aliens\", \"cosmos neutra\", 43.2)\n",
    "print(b1)"
   ]
  },
  {
   "source": [
    "## data classes"
   ],
   "cell_type": "markdown",
   "metadata": {}
  },
  {
   "cell_type": "code",
   "execution_count": 90,
   "metadata": {},
   "outputs": [
    {
     "output_type": "stream",
     "name": "stdout",
     "text": [
      "War and Peace\nJD Salinger\nBook(title='War and Peace', author='Leo Tolstoy', pages=1225, price=39.95)\nTrue\ncosmos neutra, by Leo Tolstoy\n"
     ]
    }
   ],
   "source": [
    "from dataclasses import dataclass\n",
    "\n",
    "@dataclass\n",
    "class Book:\n",
    "    title : str\n",
    "    author : str\n",
    "    pages : int\n",
    "    price : float\n",
    "\n",
    "    def bookinfo(self):\n",
    "        return f\"{self.title}, by {self.author}\"\n",
    "\n",
    "# create some instances\n",
    "b1 = Book(\"War and Peace\", \"Leo Tolstoy\", 1225, 39.95)\n",
    "b2 = Book(\"The Catcher in the Rye\", \"JD Salinger\", 234, 29.95)\n",
    "b3 = Book(\"War and Peace\", \"Leo Tolstoy\", 1225, 39.95)\n",
    "\n",
    "# access fields\n",
    "print(b1.title)\n",
    "print(b2.author)\n",
    "\n",
    "# TODO: print the book itself - dataclasses implement __repr__\n",
    "print(b1)\n",
    "\n",
    "\n",
    "# TODO: comparing two dataclasses - they implement __eq__\n",
    "print(b1 == b3)\n",
    "\n",
    "# TODO: change some fields\n",
    "b1.title = \"cosmos neutra\"\n",
    "b1.page = 846\n",
    "print(b1.bookinfo())"
   ]
  },
  {
   "source": [
    "## postinit function in data classes"
   ],
   "cell_type": "markdown",
   "metadata": {}
  },
  {
   "cell_type": "code",
   "execution_count": 94,
   "metadata": {},
   "outputs": [
    {
     "output_type": "stream",
     "name": "stdout",
     "text": [
      "The Catcher in the Rye by JD Salinger, 234 pages\nWar and Peace by Leo Tolstoy, 1225 pages\n"
     ]
    }
   ],
   "source": [
    "from dataclasses import dataclass\n",
    "\n",
    "\n",
    "@dataclass\n",
    "class Book:\n",
    "    title: str\n",
    "    author: str\n",
    "    pages: int\n",
    "    price: float\n",
    "\n",
    "    # TODO: the __post_init__ function lets us customize additional properties\n",
    "    # after the object has been initialized via built-in __init__\n",
    "\n",
    "    def __post_init__(self):\n",
    "        self.description = f\"{self.title} by {self.author}, {self.pages} pages\"\n",
    "\n",
    "# create some Book objects\n",
    "b1 = Book(\"War and Peace\", \"Leo Tolstoy\", 1225, 39.95)\n",
    "b2 = Book(\"The Catcher in the Rye\", \"JD Salinger\", 234, 29.95)\n",
    "\n",
    "# TODO: use the description attribute\n",
    "print(b2.description)\n",
    "print(b1.description)"
   ]
  },
  {
   "source": [
    "## default values in dataclass\n",
    "\n",
    "1. non default value need to come before default value"
   ],
   "cell_type": "markdown",
   "metadata": {}
  },
  {
   "cell_type": "code",
   "execution_count": 97,
   "metadata": {},
   "outputs": [
    {
     "output_type": "stream",
     "name": "stdout",
     "text": [
      "Book(title='No Title', author='No Author', pages=0, price=38.0)\nBook(title='War and Peace', author='Leo Tolstoy', pages=1225, price=38.0)\nBook(title='The Catcher in the Rye', author='JD Salinger', pages=234, price=21.0)\n"
     ]
    }
   ],
   "source": [
    "from dataclasses import dataclass, field\n",
    "import random\n",
    "\n",
    "\n",
    "def price_func():\n",
    "    return float(random.randrange(20, 40))\n",
    "\n",
    "\n",
    "@dataclass\n",
    "class Book:\n",
    "    # you can define default values when attributes are declared\n",
    "    title: str = \"No Title\"\n",
    "    author: str = \"No Author\"\n",
    "    pages: int = 0\n",
    "    price: float = field(default_factory=price_func)\n",
    "\n",
    "\n",
    "# Create a default book object\n",
    "b1 = Book()\n",
    "print(b1)\n",
    "\n",
    "# Create a specified book, price is set by field operator\n",
    "b1 = Book(\"War and Peace\", \"Leo Tolstoy\", 1225)\n",
    "b2 = Book(\"The Catcher in the Rye\", \"JD Salinger\", 234)\n",
    "print(b1)\n",
    "print(b2)"
   ]
  },
  {
   "source": [
    "## immutable data classes"
   ],
   "cell_type": "markdown",
   "metadata": {}
  },
  {
   "cell_type": "code",
   "execution_count": 99,
   "metadata": {},
   "outputs": [
    {
     "output_type": "stream",
     "name": "stdout",
     "text": [
      "Value 1\n"
     ]
    },
    {
     "output_type": "error",
     "ename": "FrozenInstanceError",
     "evalue": "cannot assign to field 'value1'",
     "traceback": [
      "\u001b[1;31m---------------------------------------------------------------------------\u001b[0m",
      "\u001b[1;31mFrozenInstanceError\u001b[0m                       Traceback (most recent call last)",
      "\u001b[1;32m<ipython-input-99-ac526adb3591>\u001b[0m in \u001b[0;36m<module>\u001b[1;34m\u001b[0m\n\u001b[0;32m     15\u001b[0m \u001b[1;33m\u001b[0m\u001b[0m\n\u001b[0;32m     16\u001b[0m \u001b[1;31m# attempting to change the value of an immutable class throws an exception\u001b[0m\u001b[1;33m\u001b[0m\u001b[1;33m\u001b[0m\u001b[1;33m\u001b[0m\u001b[0m\n\u001b[1;32m---> 17\u001b[1;33m \u001b[0mobj\u001b[0m\u001b[1;33m.\u001b[0m\u001b[0mvalue1\u001b[0m \u001b[1;33m=\u001b[0m \u001b[1;34m\"Another value\"\u001b[0m\u001b[1;33m\u001b[0m\u001b[1;33m\u001b[0m\u001b[0m\n\u001b[0m\u001b[0;32m     18\u001b[0m \u001b[0mprint\u001b[0m\u001b[1;33m(\u001b[0m\u001b[0mobj\u001b[0m\u001b[1;33m.\u001b[0m\u001b[0mvalue1\u001b[0m\u001b[1;33m)\u001b[0m\u001b[1;33m\u001b[0m\u001b[1;33m\u001b[0m\u001b[0m\n\u001b[0;32m     19\u001b[0m \u001b[1;33m\u001b[0m\u001b[0m\n",
      "\u001b[1;32m<string>\u001b[0m in \u001b[0;36m__setattr__\u001b[1;34m(self, name, value)\u001b[0m\n",
      "\u001b[1;31mFrozenInstanceError\u001b[0m: cannot assign to field 'value1'"
     ]
    }
   ],
   "source": [
    "from dataclasses import dataclass\n",
    "\n",
    "\n",
    "@dataclass(frozen=True)  # \"The \"frozen\" parameter makes the class immutable\n",
    "class ImmutableClass:\n",
    "    value1: str = \"Value 1\"\n",
    "    value2: int = 0\n",
    "\n",
    "    def somefunc(self, newval):\n",
    "        self.value2 = newval\n",
    "\n",
    "\n",
    "obj = ImmutableClass()\n",
    "print(obj.value1)\n",
    "\n",
    "# attempting to change the value of an immutable class throws an exception\n",
    "obj.value1 = \"Another value\"\n",
    "print(obj.value1)\n",
    "\n",
    "# Frozen classes can't modify themselves either\n",
    "obj.somefunc(20)\n"
   ]
  },
  {
   "cell_type": "code",
   "execution_count": null,
   "metadata": {},
   "outputs": [],
   "source": []
  },
  {
   "source": [
    "### test subjects"
   ],
   "cell_type": "markdown",
   "metadata": {}
  },
  {
   "cell_type": "code",
   "execution_count": 32,
   "metadata": {},
   "outputs": [
    {
     "output_type": "stream",
     "name": "stdout",
     "text": [
      "Joe Dov\n"
     ]
    }
   ],
   "source": [
    "class company:\n",
    "    def __init__(self, employee_id, employee_name, employee_dept):\n",
    "        self.employee_id = employee_id\n",
    "        self.employee_name = employee_name\n",
    "        self.employee_dept = employee_dept\n",
    "\n",
    "\n",
    "emp_info = company(1, \"Joe Dov\", \"IT\")\n",
    "\n",
    "print(emp_info.employee_name)"
   ]
  },
  {
   "cell_type": "code",
   "execution_count": 33,
   "metadata": {},
   "outputs": [
    {
     "output_type": "stream",
     "name": "stdout",
     "text": [
      "<__main__.empty object at 0x000001976DB5CA90>\n"
     ]
    }
   ],
   "source": [
    "class empty:\n",
    "    def __init__(self):\n",
    "        pass\n",
    "\n",
    "empty_check = empty()\n",
    "print(empty_check)"
   ]
  },
  {
   "cell_type": "code",
   "execution_count": 41,
   "metadata": {},
   "outputs": [
    {
     "output_type": "execute_result",
     "data": {
      "text/plain": [
       "160000.0"
      ]
     },
     "metadata": {},
     "execution_count": 41
    }
   ],
   "source": [
    "# how to create and call method of a class \n",
    "\n",
    "\n",
    "class employee_info:\n",
    "    def __init__(self, name, dept, salary):\n",
    "        self.name = name\n",
    "        self.dept = dept\n",
    "        self.salary = salary\n",
    "\n",
    "\n",
    "    def salary_hike(self):\n",
    "        return self.salary * (self.salary / 10000)\n",
    "\n",
    "\n",
    "\n",
    "emp1 = employee_info(\"jon\", \"IT\", 40000)\n",
    "\n",
    "emp1.salary_hike()"
   ]
  },
  {
   "cell_type": "code",
   "execution_count": null,
   "metadata": {},
   "outputs": [],
   "source": []
  }
 ]
}